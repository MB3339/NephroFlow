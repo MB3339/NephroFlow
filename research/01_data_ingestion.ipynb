{
 "cells": [
  {
   "cell_type": "code",
   "execution_count": 1,
   "id": "46280519",
   "metadata": {},
   "outputs": [],
   "source": [
    "import os\n"
   ]
  },
  {
   "cell_type": "code",
   "execution_count": 2,
   "id": "4fd6c63a",
   "metadata": {},
   "outputs": [
    {
     "data": {
      "text/plain": [
       "'m:\\\\job hunt\\\\Harrisburg University Documents\\\\ML Project\\\\Kris_Naik_series_Projects\\\\Kidney_Disease_classi\\\\NephroFlow\\\\research'"
      ]
     },
     "execution_count": 2,
     "metadata": {},
     "output_type": "execute_result"
    }
   ],
   "source": [
    "%pwd"
   ]
  },
  {
   "cell_type": "code",
   "execution_count": 3,
   "id": "207cbe84",
   "metadata": {},
   "outputs": [],
   "source": [
    "os.chdir('../')"
   ]
  },
  {
   "cell_type": "markdown",
   "id": "29c08cad",
   "metadata": {},
   "source": [
    "changing the directory to get artificats folder.\n"
   ]
  },
  {
   "cell_type": "code",
   "execution_count": 4,
   "id": "d02bae50",
   "metadata": {},
   "outputs": [
    {
     "data": {
      "text/plain": [
       "'m:\\\\job hunt\\\\Harrisburg University Documents\\\\ML Project\\\\Kris_Naik_series_Projects\\\\Kidney_Disease_classi\\\\NephroFlow'"
      ]
     },
     "execution_count": 4,
     "metadata": {},
     "output_type": "execute_result"
    }
   ],
   "source": [
    "%pwd"
   ]
  },
  {
   "cell_type": "markdown",
   "id": "aa97a3eb",
   "metadata": {},
   "source": [
    "## Introducing Entity"
   ]
  },
  {
   "cell_type": "code",
   "execution_count": 5,
   "id": "acc85980",
   "metadata": {},
   "outputs": [],
   "source": [
    "from dataclasses import dataclass\n",
    "from pathlib import Path\n",
    "\n",
    "@dataclass(frozen=True)\n",
    "class DataIngestionConfig:\n",
    "    \"\"\"\n",
    "    Data Ingestion Configuration for the Kidney Disease Classification Project.\n",
    "    Now adapted for local ZIP ingestion only.\n",
    "    \"\"\"\n",
    "    root_dir: Path\n",
    "    local_data_file: Path  # Path to the local ZIP file\n",
    "    unzip_dir: Path        # Destination directory for extracted contents"
   ]
  },
  {
   "cell_type": "code",
   "execution_count": 6,
   "id": "475bce06",
   "metadata": {},
   "outputs": [],
   "source": [
    "from cnnClassifier.constants import *\n",
    "from cnnClassifier.utils.common import read_yaml, create_directories "
   ]
  },
  {
   "cell_type": "code",
   "execution_count": 7,
   "id": "3cb2ec1c",
   "metadata": {},
   "outputs": [],
   "source": [
    "from cnnClassifier.constants import CONFIG_FILE_PATH, PARAM_FILE_PATH\n",
    "from cnnClassifier.utils.common import read_yaml, create_directories\n",
    "from pathlib import Path\n",
    "\n",
    "\n",
    "class ConfigurationManager:\n",
    "    def __init__(self,\n",
    "                 config_path: Path = CONFIG_FILE_PATH,\n",
    "                 param_path: Path = PARAM_FILE_PATH):\n",
    "        \"\"\"\n",
    "        Loads config and param YAML files, and sets up the artifacts root directory.\n",
    "        \"\"\"\n",
    "        self.config = read_yaml(config_path)\n",
    "        self.param = read_yaml(param_path)\n",
    "        create_directories([self.config.artifacts_root])\n",
    "\n",
    "    def get_data_ingestion_config(self) -> DataIngestionConfig:\n",
    "        \"\"\"\n",
    "        Extracts data ingestion configuration from config.yaml and ensures directories exist.\n",
    "        \"\"\"\n",
    "        config = self.config.data_ingestion\n",
    "        create_directories([config.root_dir])\n",
    "\n",
    "        return DataIngestionConfig(\n",
    "            root_dir=config.root_dir,\n",
    "            local_data_file=config.local_data_file,\n",
    "            unzip_dir=config.unzip_dir\n",
    "        )"
   ]
  },
  {
   "cell_type": "code",
   "execution_count": 8,
   "id": "aef0ac30",
   "metadata": {},
   "outputs": [],
   "source": [
    "def get_data_ingestion_config(self) -> DataIngestionConfig:\n",
    "    config = self.config.data_ingestion\n",
    "    create_directories([config.root_dir, config.unzip_dir])\n",
    "    \n",
    "    data_ingestion_config = DataIngestionConfig(\n",
    "        root_dir=config.root_dir,\n",
    "        local_data_file=config.local_data_file,\n",
    "        unzip_dir=config.unzip_dir\n",
    "    )\n",
    "\n",
    "    return data_ingestion_config\n"
   ]
  },
  {
   "cell_type": "code",
   "execution_count": 9,
   "id": "2b1fbb8c",
   "metadata": {},
   "outputs": [],
   "source": [
    "import os\n",
    "import zipfile\n",
    "from cnnClassifier import logger\n",
    "from cnnClassifier.utils.common import get_size \n"
   ]
  },
  {
   "cell_type": "code",
   "execution_count": 10,
   "id": "12cb2d0c",
   "metadata": {},
   "outputs": [],
   "source": [
    "import os\n",
    "import zipfile\n",
    "from cnnClassifier import logger\n",
    "\n",
    "class DataIngestion:\n",
    "    def __init__(self, config: DataIngestionConfig):\n",
    "        \"\"\"\n",
    "        Initializes the Data Ingestion class with the provided configuration.\n",
    "        \"\"\"\n",
    "        self.config = config\n",
    "\n",
    "    def extract_zip_file(self):\n",
    "        \"\"\"\n",
    "        Extracts the ZIP file into the specified directory.\n",
    "        \"\"\"\n",
    "        unzip_path = self.config.unzip_dir\n",
    "        zip_file_path = self.config.local_data_file\n",
    "\n",
    "        if not os.path.exists(zip_file_path):\n",
    "            logger.error(f\"ZIP file not found at {zip_file_path}\")\n",
    "            raise FileNotFoundError(f\"{zip_file_path} does not exist\")\n",
    "\n",
    "        logger.info(f\"Unzipping {zip_file_path} to {unzip_path}\")\n",
    "        os.makedirs(unzip_path, exist_ok=True)\n",
    "\n",
    "        with zipfile.ZipFile(zip_file_path, 'r') as zip_ref:\n",
    "            zip_ref.extractall(unzip_path)\n",
    "\n",
    "        logger.info(\"Extraction completed.\")"
   ]
  },
  {
   "cell_type": "code",
   "execution_count": 13,
   "id": "00c04578",
   "metadata": {},
   "outputs": [
    {
     "name": "stdout",
     "output_type": "stream",
     "text": [
      "[2025-07-10 16:11:25,367]:INFO: common  YAML file loaded successfully from M:\\job hunt\\Harrisburg University Documents\\ML Project\\Kris_Naik_series_Projects\\Kidney_Disease_classi\\NephroFlow\\config\\config.yaml:]\n",
      "[2025-07-10 16:11:25,371]:INFO: common  YAML file loaded successfully from M:\\job hunt\\Harrisburg University Documents\\ML Project\\Kris_Naik_series_Projects\\Kidney_Disease_classi\\NephroFlow\\param.yaml:]\n",
      "[2025-07-10 16:11:25,374]:INFO: common  Created directory: artifacts/:]\n",
      "[2025-07-10 16:11:25,376]:INFO: common  Created directory: artifacts/data_ingestion:]\n",
      "[2025-07-10 16:11:25,377]:INFO: 909571938  Unzipping research/Normal&Tumor.zip to artifacts/data_ingestion/unzipped_data:]\n",
      "[2025-07-10 16:11:38,195]:INFO: 909571938  Extraction completed.:]\n"
     ]
    }
   ],
   "source": [
    "config_manager = ConfigurationManager()\n",
    "data_ingestion_config = config_manager.get_data_ingestion_config()\n",
    "data_ingestion = DataIngestion(config=data_ingestion_config)\n",
    "data_ingestion.extract_zip_file()"
   ]
  },
  {
   "cell_type": "code",
   "execution_count": null,
   "id": "c8b1e4dd",
   "metadata": {},
   "outputs": [],
   "source": []
  }
 ],
 "metadata": {
  "kernelspec": {
   "display_name": "kidney310",
   "language": "python",
   "name": "python3"
  },
  "language_info": {
   "codemirror_mode": {
    "name": "ipython",
    "version": 3
   },
   "file_extension": ".py",
   "mimetype": "text/x-python",
   "name": "python",
   "nbconvert_exporter": "python",
   "pygments_lexer": "ipython3",
   "version": "3.10.18"
  }
 },
 "nbformat": 4,
 "nbformat_minor": 5
}
